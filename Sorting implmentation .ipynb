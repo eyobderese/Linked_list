{
  "nbformat": 4,
  "nbformat_minor": 0,
  "metadata": {
    "colab": {
      "provenance": [],
      "authorship_tag": "ABX9TyN0qc1FKiuVUwczX2ZyvsOs",
      "include_colab_link": true
    },
    "kernelspec": {
      "name": "python3",
      "display_name": "Python 3"
    },
    "language_info": {
      "name": "python"
    }
  },
  "cells": [
    {
      "cell_type": "markdown",
      "metadata": {
        "id": "view-in-github",
        "colab_type": "text"
      },
      "source": [
        "<a href=\"https://colab.research.google.com/github/eyobderese/Linked_list/blob/main/Sorting%20implmentation%20.ipynb\" target=\"_parent\"><img src=\"https://colab.research.google.com/assets/colab-badge.svg\" alt=\"Open In Colab\"/></a>"
      ]
    },
    {
      "cell_type": "code",
      "execution_count": 3,
      "metadata": {
        "id": "C2xO3En6LW5T"
      },
      "outputs": [],
      "source": [
        "import heapq"
      ]
    },
    {
      "cell_type": "markdown",
      "source": [
        "## ***`MergeSort `***"
      ],
      "metadata": {
        "id": "MkjjT-FwLZzZ"
      }
    },
    {
      "cell_type": "code",
      "source": [
        "def combiner(L1,L2):\n",
        "  pointer1=0\n",
        "  pointer2=0\n",
        "  newList=[]\n",
        "  while len(L1)>pointer1 and len(L2)>pointer2:\n",
        "    if L1[pointer1]<L2[pointer2]:\n",
        "      newList.append(L1[pointer1])\n",
        "      pointer1+=1\n",
        "    else:\n",
        "      newList.append(L2[pointer2])\n",
        "      pointer2+=1\n",
        "  while len(L1)>pointer1:\n",
        "      newList.append(L1[pointer1])\n",
        "      pointer1+=1\n",
        "  while len(L2)>pointer2:\n",
        "      newList.append(L2[pointer2])\n",
        "      pointer2+=1\n",
        "  return newList\n"
      ],
      "metadata": {
        "id": "1ltnQ6OnLzZE"
      },
      "execution_count": null,
      "outputs": []
    },
    {
      "cell_type": "code",
      "source": [
        "def merge(L):\n",
        "  if len(L)<=1:\n",
        "    return L\n",
        "  mid= len(L)//2\n",
        "  leftL=(merge(L[:mid]))\n",
        "  rightL=(merge(L[mid:]))\n",
        "  return combiner(leftL,rightL)\n",
        "\n",
        "\n"
      ],
      "metadata": {
        "id": "0kMxU6Q1L9G_"
      },
      "execution_count": null,
      "outputs": []
    },
    {
      "cell_type": "code",
      "source": [
        "l=[2,6,8,7,10,89,95,11]\n",
        "merge(l)"
      ],
      "metadata": {
        "id": "UQUZ9AmaMEBI"
      },
      "execution_count": null,
      "outputs": []
    },
    {
      "cell_type": "code",
      "source": [],
      "metadata": {
        "id": "ti6rqoBTME8G"
      },
      "execution_count": null,
      "outputs": []
    },
    {
      "cell_type": "markdown",
      "source": [
        "### ***`Quick Sort`***"
      ],
      "metadata": {
        "id": "c858U92IMHQX"
      }
    },
    {
      "cell_type": "code",
      "source": [
        "def quicksort(L):\n",
        "  if len(L)<=1:\n",
        "    return L\n",
        "  pivot=L.pop()\n",
        "  leftL=[]\n",
        "  rightL=[]\n",
        "  for i in L:\n",
        "    if i>=pivot:\n",
        "      rightL.append(i)\n",
        "    else:\n",
        "      leftL.append(i)\n",
        "  return quicksort(leftL) + [pivot] + quicksort(rightL)\n",
        "quicksort([2,5,6,9,4,10,7])\n",
        ""
      ],
      "metadata": {
        "id": "fhMaVfcqMAyz"
      },
      "execution_count": null,
      "outputs": []
    },
    {
      "cell_type": "code",
      "source": [],
      "metadata": {
        "id": "Kiyy8B4cMZid"
      },
      "execution_count": null,
      "outputs": []
    },
    {
      "cell_type": "markdown",
      "source": [
        "## ***`Heap Sort Using Library `***"
      ],
      "metadata": {
        "id": "SGDbeTx6Md7O"
      }
    },
    {
      "cell_type": "code",
      "source": [
        "def heapSort(L):\n",
        "  newlist=[]\n",
        "  for i in L:\n",
        "    heapq.heappush(newlist,i)\n",
        "  sortedList=[]\n",
        "  while newlist:\n",
        "    rootElement = heapq.heappop(newlist)\n",
        "    sortedList.append(rootElement)\n",
        "  return sortedList"
      ],
      "metadata": {
        "id": "lUnoygIJMt8T"
      },
      "execution_count": null,
      "outputs": []
    }
  ]
}